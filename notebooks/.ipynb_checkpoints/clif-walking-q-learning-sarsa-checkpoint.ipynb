{
 "cells": [
  {
   "cell_type": "markdown",
   "metadata": {},
   "source": [
    "### Random Generator Seed"
   ]
  },
  {
   "cell_type": "code",
   "execution_count": 1,
   "metadata": {},
   "outputs": [],
   "source": [
    "seed_value = 27"
   ]
  },
  {
   "cell_type": "markdown",
   "metadata": {},
   "source": [
    "### Import required libraries here"
   ]
  },
  {
   "cell_type": "code",
   "execution_count": 2,
   "metadata": {},
   "outputs": [],
   "source": [
    "import sys, os\n",
    "sys.path.append(os.getcwd()[:-9] + \"/envs\")\n",
    "import numpy as np\n",
    "np.random.seed(seed_value)\n",
    "from clif import Clif\n",
    "import matplotlib.pyplot as plt"
   ]
  },
  {
   "cell_type": "markdown",
   "metadata": {},
   "source": [
    "### Environment Settings"
   ]
  },
  {
   "cell_type": "code",
   "execution_count": 3,
   "metadata": {},
   "outputs": [],
   "source": [
    "corr_len = 10\n",
    "corr_height = 4"
   ]
  },
  {
   "cell_type": "markdown",
   "metadata": {},
   "source": [
    "### Environment Details\n",
    "1. Observation Dims : corridor length $\\times$ corridor height\n",
    "2. Action Space : UP, DOWN, LEFT, RIGHT\n",
    "3. render() : renders the current state of the grid\n",
    "4. Observation Maping :\n",
    "    * Agent Location - 2\n",
    "    * Obstacle - 1\n",
    "    * Free Space - 0\n",
    "5. Action mapping\n",
    "    * Up - 0\n",
    "    * Down - 1\n",
    "    * Left - 2\n",
    "    * Right - 3"
   ]
  },
  {
   "cell_type": "markdown",
   "metadata": {},
   "source": [
    "### Utility Functions"
   ]
  },
  {
   "cell_type": "code",
   "execution_count": 4,
   "metadata": {},
   "outputs": [],
   "source": [
    "def moving_average(a, n=3) :\n",
    "    ret = np.cumsum(a, dtype=float)\n",
    "    ret[n:] = ret[n:] - ret[:-n]\n",
    "    return ret[n - 1:] / n"
   ]
  },
  {
   "cell_type": "markdown",
   "metadata": {},
   "source": [
    "### Create Environment Object"
   ]
  },
  {
   "cell_type": "code",
   "execution_count": 5,
   "metadata": {},
   "outputs": [],
   "source": [
    "env = Clif(corr_len=corr_len, corr_height=corr_height, useObstacles=True)"
   ]
  },
  {
   "cell_type": "markdown",
   "metadata": {},
   "source": [
    "# SARSA"
   ]
  },
  {
   "cell_type": "markdown",
   "metadata": {},
   "source": [
    "### Algorithm hyper-parameters"
   ]
  },
  {
   "cell_type": "code",
   "execution_count": 6,
   "metadata": {},
   "outputs": [],
   "source": [
    "sepsilon = 0.1\n",
    "slearningRate = 0.01\n",
    "snumIters = 100000\n",
    "sdiscountFactor = 0.99"
   ]
  },
  {
   "cell_type": "markdown",
   "metadata": {},
   "source": [
    "### Import q-learning agent and exploration policy"
   ]
  },
  {
   "cell_type": "code",
   "execution_count": 7,
   "metadata": {},
   "outputs": [],
   "source": [
    "sys.path.append(os.getcwd()[:-9])\n",
    "from agents.sarsaLearningAgent import sarsaLearner\n",
    "from explorer.epsilonGreedy import epsilonGreedy"
   ]
  },
  {
   "cell_type": "markdown",
   "metadata": {},
   "source": [
    "### Create learner object and exploration policy object"
   ]
  },
  {
   "cell_type": "code",
   "execution_count": 8,
   "metadata": {},
   "outputs": [],
   "source": [
    "sexplorer = epsilonGreedy(epsilon=sepsilon)\n",
    "sagent = sarsaLearner(env.action_space.n, env, sexplorer, learningRate=slearningRate, numIters=snumIters, discountFactor=sdiscountFactor)"
   ]
  },
  {
   "cell_type": "markdown",
   "metadata": {},
   "source": [
    "### Start learning"
   ]
  },
  {
   "cell_type": "code",
   "execution_count": 10,
   "metadata": {},
   "outputs": [
    {
     "name": "stdout",
     "output_type": "stream",
     "text": [
      "Total States in Q-dict :  30\n"
     ]
    }
   ],
   "source": [
    "sagent.learn()"
   ]
  },
  {
   "cell_type": "markdown",
   "metadata": {},
   "source": [
    "### TD-error Curve"
   ]
  },
  {
   "cell_type": "code",
   "execution_count": 12,
   "metadata": {},
   "outputs": [
    {
     "data": {
      "image/png": "[encoded data removed]",
      "text/plain": [
       "<Figure size 432x288 with 1 Axes>"
      ]
     },
     "metadata": {
      "needs_background": "light"
     },
     "output_type": "display_data"
    }
   ],
   "source": [
    "plt.plot(sagent.tdErrorList)\n",
    "plt.xlabel(\"steps\")\n",
    "plt.ylabel(\"error in estimates\")\n",
    "plt.title(\"td-Error, SARSA\")\n",
    "plt.show()"
   ]
  },
  {
   "cell_type": "markdown",
   "metadata": {},
   "source": [
    "### Execute learned policy"
   ]
  },
  {
   "cell_type": "code",
   "execution_count": 13,
   "metadata": {},
   "outputs": [
    {
     "name": "stdout",
     "output_type": "stream",
     "text": [
      "Start State : \n",
      "[[0 0 0 0 0 0 0 0 0 0]\n",
      " [0 0 0 0 1 0 0 0 0 0]\n",
      " [0 1 0 0 0 0 0 0 0 0]\n",
      " [2 1 1 1 1 1 1 1 1 0]]\n",
      "Action :  UP\n",
      "[[0 0 0 0 0 0 0 0 0 0]\n",
      " [0 0 0 0 1 0 0 0 0 0]\n",
      " [2 1 0 0 0 0 0 0 0 0]\n",
      " [0 1 1 1 1 1 1 1 1 0]]\n",
      "Action :  UP\n",
      "[[0 0 0 0 0 0 0 0 0 0]\n",
      " [2 0 0 0 1 0 0 0 0 0]\n",
      " [0 1 0 0 0 0 0 0 0 0]\n",
      " [0 1 1 1 1 1 1 1 1 0]]\n",
      "Action :  UP\n",
      "[[2 0 0 0 0 0 0 0 0 0]\n",
      " [0 0 0 0 1 0 0 0 0 0]\n",
      " [0 1 0 0 0 0 0 0 0 0]\n",
      " [0 1 1 1 1 1 1 1 1 0]]\n",
      "Action :  RIGHT\n",
      "[[0 2 0 0 0 0 0 0 0 0]\n",
      " [0 0 0 0 1 0 0 0 0 0]\n",
      " [0 1 0 0 0 0 0 0 0 0]\n",
      " [0 1 1 1 1 1 1 1 1 0]]\n",
      "Action :  RIGHT\n",
      "[[0 0 2 0 0 0 0 0 0 0]\n",
      " [0 0 0 0 1 0 0 0 0 0]\n",
      " [0 1 0 0 0 0 0 0 0 0]\n",
      " [0 1 1 1 1 1 1 1 1 0]]\n",
      "Action :  RIGHT\n",
      "[[0 0 0 2 0 0 0 0 0 0]\n",
      " [0 0 0 0 1 0 0 0 0 0]\n",
      " [0 1 0 0 0 0 0 0 0 0]\n",
      " [0 1 1 1 1 1 1 1 1 0]]\n",
      "Action :  RIGHT\n",
      "[[0 0 0 0 2 0 0 0 0 0]\n",
      " [0 0 0 0 1 0 0 0 0 0]\n",
      " [0 1 0 0 0 0 0 0 0 0]\n",
      " [0 1 1 1 1 1 1 1 1 0]]\n",
      "Action :  RIGHT\n",
      "[[0 0 0 0 0 2 0 0 0 0]\n",
      " [0 0 0 0 1 0 0 0 0 0]\n",
      " [0 1 0 0 0 0 0 0 0 0]\n",
      " [0 1 1 1 1 1 1 1 1 0]]\n",
      "Action :  RIGHT\n",
      "[[0 0 0 0 0 0 2 0 0 0]\n",
      " [0 0 0 0 1 0 0 0 0 0]\n",
      " [0 1 0 0 0 0 0 0 0 0]\n",
      " [0 1 1 1 1 1 1 1 1 0]]\n",
      "Action :  RIGHT\n",
      "[[0 0 0 0 0 0 0 2 0 0]\n",
      " [0 0 0 0 1 0 0 0 0 0]\n",
      " [0 1 0 0 0 0 0 0 0 0]\n",
      " [0 1 1 1 1 1 1 1 1 0]]\n",
      "Action :  RIGHT\n",
      "[[0 0 0 0 0 0 0 0 2 0]\n",
      " [0 0 0 0 1 0 0 0 0 0]\n",
      " [0 1 0 0 0 0 0 0 0 0]\n",
      " [0 1 1 1 1 1 1 1 1 0]]\n",
      "Action :  DOWN\n",
      "[[0 0 0 0 0 0 0 0 0 0]\n",
      " [0 0 0 0 1 0 0 0 2 0]\n",
      " [0 1 0 0 0 0 0 0 0 0]\n",
      " [0 1 1 1 1 1 1 1 1 0]]\n",
      "Action :  RIGHT\n",
      "[[0 0 0 0 0 0 0 0 0 0]\n",
      " [0 0 0 0 1 0 0 0 0 2]\n",
      " [0 1 0 0 0 0 0 0 0 0]\n",
      " [0 1 1 1 1 1 1 1 1 0]]\n",
      "Action :  DOWN\n",
      "[[0 0 0 0 0 0 0 0 0 0]\n",
      " [0 0 0 0 1 0 0 0 0 0]\n",
      " [0 1 0 0 0 0 0 0 0 2]\n",
      " [0 1 1 1 1 1 1 1 1 0]]\n",
      "Action :  DOWN\n",
      "[[0 0 0 0 0 0 0 0 0 0]\n",
      " [0 0 0 0 1 0 0 0 0 0]\n",
      " [0 1 0 0 0 0 0 0 0 0]\n",
      " [0 1 1 1 1 1 1 1 1 2]]\n"
     ]
    },
    {
     "data": {
      "text/plain": [
       "-15.0"
      ]
     },
     "execution_count": 13,
     "metadata": {},
     "output_type": "execute_result"
    }
   ],
   "source": [
    "sagent.execute(renderPolicy=True)"
   ]
  },
  {
   "cell_type": "markdown",
   "metadata": {},
   "source": [
    "# Q-learning "
   ]
  },
  {
   "cell_type": "markdown",
   "metadata": {},
   "source": [
    "### Algorithm hyper-parameters"
   ]
  },
  {
   "cell_type": "code",
   "execution_count": 17,
   "metadata": {},
   "outputs": [],
   "source": [
    "qepsilon = 0.1\n",
    "qlearningRate = 0.1\n",
    "qnumIters = 100000\n",
    "qdiscountFactor = 0.99"
   ]
  },
  {
   "cell_type": "markdown",
   "metadata": {},
   "source": [
    "### Import q-learning agent and exploration policy"
   ]
  },
  {
   "cell_type": "code",
   "execution_count": 18,
   "metadata": {},
   "outputs": [],
   "source": [
    "sys.path.append(os.getcwd()[:-9])\n",
    "from agents.qLearningAgent import qLearner\n",
    "from explorer.epsilonGreedy import epsilonGreedy"
   ]
  },
  {
   "cell_type": "markdown",
   "metadata": {},
   "source": [
    "### Create learner object and exploration policy object"
   ]
  },
  {
   "cell_type": "code",
   "execution_count": 20,
   "metadata": {},
   "outputs": [],
   "source": [
    "qexplorer = epsilonGreedy(epsilon=qepsilon)\n",
    "qagent = qLearner(env.action_space.n, env, qexplorer, learningRate=qlearningRate, numIters=qnumIters, discountFactor=qdiscountFactor)"
   ]
  },
  {
   "cell_type": "markdown",
   "metadata": {},
   "source": [
    "### Start learning"
   ]
  },
  {
   "cell_type": "code",
   "execution_count": 21,
   "metadata": {},
   "outputs": [
    {
     "name": "stdout",
     "output_type": "stream",
     "text": [
      "Total States in Q-dict :  30\n"
     ]
    }
   ],
   "source": [
    "qagent.learn()"
   ]
  },
  {
   "cell_type": "markdown",
   "metadata": {},
   "source": [
    "### TD-error Curve"
   ]
  },
  {
   "cell_type": "code",
   "execution_count": 22,
   "metadata": {},
   "outputs": [
    {
     "data": {
      "image/png": "[encoded data removed]",
      "text/plain": [
       "<Figure size 432x288 with 1 Axes>"
      ]
     },
     "metadata": {
      "needs_background": "light"
     },
     "output_type": "display_data"
    }
   ],
   "source": [
    "plt.plot(qagent.tdErrorList)\n",
    "plt.xlabel(\"steps\")\n",
    "plt.ylabel(\"error in estimates\")\n",
    "plt.title(\"TD-error\")\n",
    "plt.show()"
   ]
  },
  {
   "cell_type": "markdown",
   "metadata": {},
   "source": [
    "### Execute learned policy"
   ]
  },
  {
   "cell_type": "code",
   "execution_count": 23,
   "metadata": {},
   "outputs": [
    {
     "name": "stdout",
     "output_type": "stream",
     "text": [
      "Start State : \n",
      "[[0 0 0 0 0 0 0 0 0 0]\n",
      " [0 0 0 0 1 0 0 0 0 0]\n",
      " [0 1 0 0 0 0 0 0 0 0]\n",
      " [2 1 1 1 1 1 1 1 1 0]]\n",
      "Action :  UP\n",
      "[[0 0 0 0 0 0 0 0 0 0]\n",
      " [0 0 0 0 1 0 0 0 0 0]\n",
      " [2 1 0 0 0 0 0 0 0 0]\n",
      " [0 1 1 1 1 1 1 1 1 0]]\n",
      "Action :  UP\n",
      "[[0 0 0 0 0 0 0 0 0 0]\n",
      " [2 0 0 0 1 0 0 0 0 0]\n",
      " [0 1 0 0 0 0 0 0 0 0]\n",
      " [0 1 1 1 1 1 1 1 1 0]]\n",
      "Action :  RIGHT\n",
      "[[0 0 0 0 0 0 0 0 0 0]\n",
      " [0 2 0 0 1 0 0 0 0 0]\n",
      " [0 1 0 0 0 0 0 0 0 0]\n",
      " [0 1 1 1 1 1 1 1 1 0]]\n",
      "Action :  RIGHT\n",
      "[[0 0 0 0 0 0 0 0 0 0]\n",
      " [0 0 2 0 1 0 0 0 0 0]\n",
      " [0 1 0 0 0 0 0 0 0 0]\n",
      " [0 1 1 1 1 1 1 1 1 0]]\n",
      "Action :  DOWN\n",
      "[[0 0 0 0 0 0 0 0 0 0]\n",
      " [0 0 0 0 1 0 0 0 0 0]\n",
      " [0 1 2 0 0 0 0 0 0 0]\n",
      " [0 1 1 1 1 1 1 1 1 0]]\n",
      "Action :  RIGHT\n",
      "[[0 0 0 0 0 0 0 0 0 0]\n",
      " [0 0 0 0 1 0 0 0 0 0]\n",
      " [0 1 0 2 0 0 0 0 0 0]\n",
      " [0 1 1 1 1 1 1 1 1 0]]\n",
      "Action :  RIGHT\n",
      "[[0 0 0 0 0 0 0 0 0 0]\n",
      " [0 0 0 0 1 0 0 0 0 0]\n",
      " [0 1 0 0 2 0 0 0 0 0]\n",
      " [0 1 1 1 1 1 1 1 1 0]]\n",
      "Action :  RIGHT\n",
      "[[0 0 0 0 0 0 0 0 0 0]\n",
      " [0 0 0 0 1 0 0 0 0 0]\n",
      " [0 1 0 0 0 2 0 0 0 0]\n",
      " [0 1 1 1 1 1 1 1 1 0]]\n",
      "Action :  RIGHT\n",
      "[[0 0 0 0 0 0 0 0 0 0]\n",
      " [0 0 0 0 1 0 0 0 0 0]\n",
      " [0 1 0 0 0 0 2 0 0 0]\n",
      " [0 1 1 1 1 1 1 1 1 0]]\n",
      "Action :  RIGHT\n",
      "[[0 0 0 0 0 0 0 0 0 0]\n",
      " [0 0 0 0 1 0 0 0 0 0]\n",
      " [0 1 0 0 0 0 0 2 0 0]\n",
      " [0 1 1 1 1 1 1 1 1 0]]\n",
      "Action :  RIGHT\n",
      "[[0 0 0 0 0 0 0 0 0 0]\n",
      " [0 0 0 0 1 0 0 0 0 0]\n",
      " [0 1 0 0 0 0 0 0 2 0]\n",
      " [0 1 1 1 1 1 1 1 1 0]]\n",
      "Action :  RIGHT\n",
      "[[0 0 0 0 0 0 0 0 0 0]\n",
      " [0 0 0 0 1 0 0 0 0 0]\n",
      " [0 1 0 0 0 0 0 0 0 2]\n",
      " [0 1 1 1 1 1 1 1 1 0]]\n",
      "Action :  DOWN\n",
      "[[0 0 0 0 0 0 0 0 0 0]\n",
      " [0 0 0 0 1 0 0 0 0 0]\n",
      " [0 1 0 0 0 0 0 0 0 0]\n",
      " [0 1 1 1 1 1 1 1 1 2]]\n"
     ]
    },
    {
     "data": {
      "text/plain": [
       "-13.0"
      ]
     },
     "execution_count": 23,
     "metadata": {},
     "output_type": "execute_result"
    }
   ],
   "source": [
    "qagent.execute(renderPolicy=True)"
   ]
  },
  {
   "cell_type": "markdown",
   "metadata": {},
   "source": [
    "# Episode Reward Comparison"
   ]
  },
  {
   "cell_type": "code",
   "execution_count": 26,
   "metadata": {},
   "outputs": [
    {
     "data": {
      "image/png": "[encoded data removed]",
      "text/plain": [
       "<Figure size 432x288 with 1 Axes>"
      ]
     },
     "metadata": {
      "needs_background": "light"
     },
     "output_type": "display_data"
    }
   ],
   "source": [
    "plt.plot(moving_average(sagent.cumRewards, n=200), label=\"SARSA\")\n",
    "plt.plot(moving_average(qagent.cumRewards, n=200), label=\"Q-learning\")\n",
    "plt.xlabel(\"episodes\")\n",
    "plt.ylabel(\"Cum. Reward\")\n",
    "plt.title(\"\")\n",
    "plt.legend()\n",
    "plt.show()"
   ]
  }
 ],
 "metadata": {
  "kernelspec": {
   "display_name": "rl-lab-exam",
   "language": "python",
   "name": "rl-lab-exam"
  },
  "language_info": {
   "codemirror_mode": {
    "name": "ipython",
    "version": 3
   },
   "file_extension": ".py",
   "mimetype": "text/x-python",
   "name": "python",
   "nbconvert_exporter": "python",
   "pygments_lexer": "ipython3",
   "version": "3.6.9"
  }
 },
 "nbformat": 4,
 "nbformat_minor": 2
}
